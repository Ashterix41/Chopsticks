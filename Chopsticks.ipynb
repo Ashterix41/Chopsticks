{
 "cells": [
  {
   "cell_type": "code",
   "execution_count": null,
   "id": "f9ce5d9b-665b-40a3-82b4-ffdbc6e3d2cf",
   "metadata": {},
   "outputs": [
    {
     "name": "stdout",
     "output_type": "stream",
     "text": [
      "Hand count 1\n",
      "Hand count 1\n",
      "Hand count 1\n",
      "Hand count 1\n",
      "\n"
     ]
    },
    {
     "name": "stdin",
     "output_type": "stream",
     "text": [
      "Player1, Choose a hand to attack 1\n",
      "Player2, Choose a hand to counter attack 2\n"
     ]
    },
    {
     "name": "stdout",
     "output_type": "stream",
     "text": [
      "\n",
      "Hand count 1\n",
      "Hand count 1\n",
      "Hand count 2\n",
      "Hand count 1\n",
      "\n"
     ]
    },
    {
     "name": "stdin",
     "output_type": "stream",
     "text": [
      "Player1, Choose a hand to attack 1\n",
      "Player2, Choose a hand to counter attack 2\n"
     ]
    },
    {
     "name": "stdout",
     "output_type": "stream",
     "text": [
      "\n",
      "Hand count 1\n",
      "Hand count 1\n",
      "Hand count 3\n",
      "Hand count 1\n",
      "\n"
     ]
    },
    {
     "name": "stdin",
     "output_type": "stream",
     "text": [
      "Player1, Choose a hand to attack 1\n",
      "Player2, Choose a hand to counter attack 2\n"
     ]
    },
    {
     "name": "stdout",
     "output_type": "stream",
     "text": [
      "\n",
      "Hand count 1\n",
      "Hand count 1\n",
      "Hand count 4\n",
      "Hand count 1\n",
      "\n"
     ]
    },
    {
     "name": "stdin",
     "output_type": "stream",
     "text": [
      "Player1, Choose a hand to attack 1\n",
      "Player2, Choose a hand to counter attack 2\n"
     ]
    },
    {
     "name": "stdout",
     "output_type": "stream",
     "text": [
      "\n",
      "Player2 looses '_' \n",
      "Hand count 1\n",
      "Hand count 1\n",
      "Hand count 0\n",
      "Hand count 1\n",
      "\n"
     ]
    }
   ],
   "source": [
    "handlist = [1,1,1,1]\n",
    "\n",
    "while True:\n",
    "    count = 0\n",
    "    for number in handlist:\n",
    "        print(\"Hand count\", 1 * number)\n",
    "        count = count + 1\n",
    "    print(\"\")\n",
    "    Player1 = int(input(\"Player1, Choose a hand to attack\"))\n",
    "    Player2 = int(input(\"Player2, Choose a hand to counter attack\"))\n",
    "    print(\"\")\n",
    "              \n",
    "    handlist[Player2] = handlist[Player2]+handlist[Player1]\n",
    "              \n",
    "    if handlist [Player2] >= 5:\n",
    "              print(\"Player2 looses '_' \")\n",
    "              handlist[Player2] = 0\n",
    "    if handlist [0] == 0 and handlist [1] == 0:\n",
    "              break\n",
    "    if handlist [2] == 0 and handlist [3] == 0:\n",
    "              break\n",
    "\n",
    "if handlist [0] == 0 and handlist [1] == 0:\n",
    "              print(\"Player2 wins\")\n",
    "if handlist [2] == 0 and handlist [3] == 0:\n",
    "              print(\"Player2 wins\")"
   ]
  }
 ],
 "metadata": {
  "kernelspec": {
   "display_name": "Python 3 (ipykernel)",
   "language": "python",
   "name": "python3"
  },
  "language_info": {
   "codemirror_mode": {
    "name": "ipython",
    "version": 3
   },
   "file_extension": ".py",
   "mimetype": "text/x-python",
   "name": "python",
   "nbconvert_exporter": "python",
   "pygments_lexer": "ipython3",
   "version": "3.8.9"
  },
  "toc-showtags": false
 },
 "nbformat": 4,
 "nbformat_minor": 5
}
